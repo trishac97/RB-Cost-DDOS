{
 "cells": [
  {
   "cell_type": "code",
   "execution_count": 1,
   "metadata": {},
   "outputs": [],
   "source": [
    "import math\n",
    "import matplotlib.pyplot as plt\n",
    "import numpy as np\n",
    "n = [20,40,80,160,320,640,1280,5120,10240,20480,40980,81920,163840,327680,655360,1310720,2621440]\n",
    "alpha = 1"
   ]
  },
  {
   "cell_type": "code",
   "execution_count": 2,
   "metadata": {},
   "outputs": [],
   "source": [
    "def createHatG(N,k,alpha):\n",
    "    hatg_array= [0]*N\n",
    "    for index in range(0,len(hatg_array)):\n",
    "        if index%k < alpha:\n",
    "            hatg_array[index]=1\n",
    "    return hatg_array"
   ]
  },
  {
   "cell_type": "code",
   "execution_count": 3,
   "metadata": {},
   "outputs": [],
   "source": [
    "def createG(N,k,alpha):\n",
    "    g_array= [0]*N\n",
    "    for index in range(0,len(g_array)):\n",
    "        if index%(k) >= (k-alpha):\n",
    "            g_array[index]=1\n",
    "    return g_array"
   ]
  },
  {
   "cell_type": "code",
   "execution_count": 4,
   "metadata": {},
   "outputs": [],
   "source": [
    "import numpy as np\n",
    "def findRootBG(B_2,Good):\n",
    "    ar1 = np.array(B_2)\n",
    "    ar2 = np.array(Good)\n",
    "    ar3 = np.sqrt(ar1 * ar2)\n",
    "    return np.add(ar3,Good)"
   ]
  },
  {
   "cell_type": "code",
   "execution_count": 5,
   "metadata": {},
   "outputs": [],
   "source": [
    "def count_goodJob(array):\n",
    "    count=0\n",
    "    for c in array:\n",
    "        if c==1:\n",
    "            count=count+1\n",
    "    return count"
   ]
  },
  {
   "cell_type": "code",
   "execution_count": 6,
   "metadata": {},
   "outputs": [],
   "source": [
    "def calculateCost(hatg_array,g_array,gamma):\n",
    "    algoCost=0\n",
    "    badCost=0\n",
    "    index=1\n",
    "    count_bad=0\n",
    "    for job in hatg_array:\n",
    "        if job == 1:\n",
    "            algoCost=algoCost+pow(index,gamma)\n",
    "            index=1\n",
    "        else:\n",
    "            badCost=badCost+pow(index,gamma)\n",
    "            index=index+1\n",
    "    \n",
    "    for job in g_array:\n",
    "        if job == 0:\n",
    "            count_bad = count_bad+1\n",
    "    algoCost = algoCost+count_bad\n",
    "    return algoCost,badCost"
   ]
  },
  {
   "cell_type": "code",
   "execution_count": 7,
   "metadata": {},
   "outputs": [],
   "source": [
    "def makePlot(A_1,B_1,A_2,B_2,A_3,B_3,A_4,B_4,root):\n",
    "\n",
    "    \n",
    "    plt.loglog(B_1,A_1,'red',marker='.')\n",
    "    plt.loglog(B_2,A_2,'teal',marker='o')\n",
    "    plt.loglog(B_3,A_3,'orange',marker='s')\n",
    "    plt.loglog(B_4,A_4,'black',marker='*')\n",
    "    plt.loglog(B_2,root,'green',marker='v')\n",
    "\n",
    "    plt.axline([10^3, 10^3], [10^5, 10^5],linestyle ='--')\n",
    "    #plt.xlim([50, 1000000000])\n",
    "    #plt.ylim([100, 100000])\n",
    "\n",
    "    plt.legend(['gamma=0','gamma=1','gamma=0.5','gamma=2'])\n",
    "    plt.xlabel('Bad cost')\n",
    "    plt.ylabel('Algorithm cost')\n",
    "    plt.title('Simulation for alpha = 1')\n",
    "    plt.show()"
   ]
  },
  {
   "cell_type": "code",
   "execution_count": 8,
   "metadata": {},
   "outputs": [],
   "source": [
    "def calculate():\n",
    "    gamma=[0,1,0.5,2]\n",
    "    A_1=[0]*(len(n))\n",
    "    B_1=[0]*(len(n))\n",
    "    A_2=[0]*(len(n))\n",
    "    B_2=[0]*(len(n))\n",
    "    A_3=[0]*(len(n))\n",
    "    B_3=[0]*(len(n))\n",
    "    A_4=[0]*(len(n))\n",
    "    B_4=[0]*(len(n))\n",
    "    Good=[10]*(len(n))\n",
    "    for g in gamma:\n",
    "        print('For gamma = ',g)\n",
    "        i=0\n",
    "        for N in n:\n",
    "            result=[]\n",
    "            hatg_array = createHatG(N,N/10,alpha)\n",
    "            g_array = createG(N,N/10,alpha)\n",
    "            print('Experiment with',N, 'jobs')\n",
    "            #print('Fix hat{g}',hatg_array)\n",
    "            #print('Fix g',g_array)\n",
    "            result = calculateCost(hatg_array,g_array,g)\n",
    "            if g==gamma[0]:\n",
    "                A_1[i] = result[0]\n",
    "                B_1[i] = result[1]\n",
    "            if g==gamma[1]:\n",
    "                A_2[i] = result[0]\n",
    "                B_2[i] = result[1]\n",
    "            if g==gamma[2]:\n",
    "                A_3[i] = result[0]\n",
    "                B_3[i] = result[1]\n",
    "            if g==gamma[3]:\n",
    "                A_4[i] = result[0]\n",
    "                B_4[i] = result[1]\n",
    "            i=i+1\n",
    "    print('A_1:',A_1)\n",
    "    print('B_1:',B_1)\n",
    "    print('A_2:',A_2)\n",
    "    print('B_2:',B_2)\n",
    "    print('A_3:',A_3)\n",
    "    print('B_3:',B_3)\n",
    "    print('A_4:',A_4)\n",
    "    print('B_4:',B_4)\n",
    "    root = findRootBG(B_2,Good)\n",
    "    print('Root BG',root)\n",
    "    makePlot(A_1,B_1,A_2,B_2,A_3,B_3,A_4,B_4,root)"
   ]
  },
  {
   "cell_type": "code",
   "execution_count": 9,
   "metadata": {},
   "outputs": [
    {
     "name": "stdout",
     "output_type": "stream",
     "text": [
      "For gamma =  0\n",
      "Experiment with 20 jobs\n",
      "Experiment with 40 jobs\n",
      "Experiment with 80 jobs\n",
      "Experiment with 160 jobs\n",
      "Experiment with 320 jobs\n",
      "Experiment with 640 jobs\n",
      "Experiment with 1280 jobs\n",
      "Experiment with 5120 jobs\n",
      "Experiment with 10240 jobs\n",
      "Experiment with 20480 jobs\n",
      "Experiment with 40980 jobs\n",
      "Experiment with 81920 jobs\n",
      "Experiment with 163840 jobs\n",
      "Experiment with 327680 jobs\n",
      "Experiment with 655360 jobs\n",
      "Experiment with 1310720 jobs\n",
      "Experiment with 2621440 jobs\n",
      "For gamma =  1\n",
      "Experiment with 20 jobs\n",
      "Experiment with 40 jobs\n",
      "Experiment with 80 jobs\n",
      "Experiment with 160 jobs\n",
      "Experiment with 320 jobs\n",
      "Experiment with 640 jobs\n",
      "Experiment with 1280 jobs\n",
      "Experiment with 5120 jobs\n",
      "Experiment with 10240 jobs\n",
      "Experiment with 20480 jobs\n",
      "Experiment with 40980 jobs\n",
      "Experiment with 81920 jobs\n",
      "Experiment with 163840 jobs\n",
      "Experiment with 327680 jobs\n",
      "Experiment with 655360 jobs\n",
      "Experiment with 1310720 jobs\n",
      "Experiment with 2621440 jobs\n",
      "For gamma =  0.5\n",
      "Experiment with 20 jobs\n",
      "Experiment with 40 jobs\n",
      "Experiment with 80 jobs\n",
      "Experiment with 160 jobs\n",
      "Experiment with 320 jobs\n",
      "Experiment with 640 jobs\n",
      "Experiment with 1280 jobs\n",
      "Experiment with 5120 jobs\n",
      "Experiment with 10240 jobs\n",
      "Experiment with 20480 jobs\n",
      "Experiment with 40980 jobs\n",
      "Experiment with 81920 jobs\n",
      "Experiment with 163840 jobs\n",
      "Experiment with 327680 jobs\n",
      "Experiment with 655360 jobs\n",
      "Experiment with 1310720 jobs\n",
      "Experiment with 2621440 jobs\n",
      "For gamma =  2\n",
      "Experiment with 20 jobs\n",
      "Experiment with 40 jobs\n",
      "Experiment with 80 jobs\n",
      "Experiment with 160 jobs\n",
      "Experiment with 320 jobs\n",
      "Experiment with 640 jobs\n",
      "Experiment with 1280 jobs\n",
      "Experiment with 5120 jobs\n",
      "Experiment with 10240 jobs\n",
      "Experiment with 20480 jobs\n",
      "Experiment with 40980 jobs\n",
      "Experiment with 81920 jobs\n",
      "Experiment with 163840 jobs\n",
      "Experiment with 327680 jobs\n",
      "Experiment with 655360 jobs\n",
      "Experiment with 1310720 jobs\n",
      "Experiment with 2621440 jobs\n",
      "A_1: [20, 40, 80, 160, 320, 640, 1280, 5120, 10240, 20480, 40980, 81920, 163840, 327680, 655360, 1310720, 2621440]\n",
      "B_1: [10, 30, 70, 150, 310, 630, 1270, 5110, 10230, 20470, 40970, 81910, 163830, 327670, 655350, 1310710, 2621430]\n",
      "A_2: [29, 67, 143, 295, 599, 1207, 2423, 9719, 19447, 38903, 77853, 155639, 311287, 622583, 1245175, 2490359, 4980727]\n",
      "B_2: [10, 60, 280, 1200, 4960, 20160, 81280, 1308160, 5237760, 20961280, 83947530, 335503360, 1342095360, 5368545280, 21474508800, 85898690560, 343596072960]\n",
      "A_3: [23.72792206135786, 49.0, 96.45584412271572, 187.0, 361.91168824543144, 703.0, 1372.8233764908628, 5314.6467529817255, 10519.0, 20878.29350596345, 41547.14060783805, 82725.58701192691, 164983.0, 329300.1740238538, 657655.0, 1313969.3480477077, 2626039.0]\n",
      "B_3: [10.0, 41.46264369941972, 134.77573401289527, 404.6919660014263, 1176.50609578523, 3371.306554257956, 9595.7540095057, 77119.71915340151, 218291.26749191774, 617650.9896661113, 1748584.6724350792, 4942580.045331114, 13980371.257726189, 39543370.170196064, 111846824.58943082, 316352406.47645193, 894782291.2553015]\n",
      "A_4: [47, 175, 647, 2455, 9527, 37495, 148727, 2364407, 9447415, 37769207, 151183407, 604061687, 2416082935, 9664004087, 38655361015, 154620133367, 618477912055]\n",
      "B_4: [10, 140, 1400, 12400, 104160, 853440, 6908800, 446082560, 3573898240, 28612147200, 229316669450, 1832183848960, 14658812887040, 117275871641600, 938228447641600, 7505913479823360, 60047651434659840]\n",
      "Root BG [2.00000000e+01 3.44948974e+01 6.29150262e+01 1.19544512e+02\n",
      " 2.32710575e+02 4.58998886e+02 9.11554214e+02 3.62684946e+03\n",
      " 7.24723704e+03 1.44880109e+04 2.89837001e+04 5.79326519e+04\n",
      " 1.15858839e+05 2.31711214e+05 4.63415965e+05 9.26825465e+05\n",
      " 1.85364446e+06]\n"
     ]
    },
    {
     "data": {
      "image/png": "[encoded data removed]",
      "text/plain": [
       "<Figure size 432x288 with 1 Axes>"
      ]
     },
     "metadata": {
      "needs_background": "light"
     },
     "output_type": "display_data"
    }
   ],
   "source": [
    " calculate()"
   ]
  },
  {
   "cell_type": "code",
   "execution_count": null,
   "metadata": {},
   "outputs": [],
   "source": []
  },
  {
   "cell_type": "code",
   "execution_count": null,
   "metadata": {},
   "outputs": [],
   "source": []
  },
  {
   "cell_type": "code",
   "execution_count": null,
   "metadata": {},
   "outputs": [],
   "source": []
  }
 ],
 "metadata": {
  "kernelspec": {
   "display_name": "Python 3",
   "language": "python",
   "name": "python3"
  },
  "language_info": {
   "codemirror_mode": {
    "name": "ipython",
    "version": 3
   },
   "file_extension": ".py",
   "mimetype": "text/x-python",
   "name": "python",
   "nbconvert_exporter": "python",
   "pygments_lexer": "ipython3",
   "version": "3.8.3"
  }
 },
 "nbformat": 4,
 "nbformat_minor": 4
}
