{
 "cells": [
  {
   "cell_type": "code",
   "execution_count": 17,
   "metadata": {},
   "outputs": [],
   "source": [
    "import math\n",
    "import matplotlib.pyplot as plt\n",
    "import numpy as np\n",
    "n = [20,40,80,160,320,640,1280,5120,10240,20480,40980,81920,163840,327680,655360,1310720,2621440]\n",
    "alpha = 1"
   ]
  },
  {
   "cell_type": "code",
   "execution_count": 18,
   "metadata": {},
   "outputs": [],
   "source": [
    "def createHatG(N,k,alpha):\n",
    "    hatg_array= [0]*N\n",
    "    for index in range(0,len(hatg_array)):\n",
    "        if index%k < alpha:\n",
    "            hatg_array[index]=1\n",
    "    return hatg_array"
   ]
  },
  {
   "cell_type": "code",
   "execution_count": 11,
   "metadata": {},
   "outputs": [],
   "source": [
    "def createG(N,k,alpha):\n",
    "    g_array= [0]*N\n",
    "    for index in range(0,len(g_array)):\n",
    "        if index%(k) >= (k-alpha):\n",
    "            g_array[index]=1\n",
    "    return g_array"
   ]
  },
  {
   "cell_type": "code",
   "execution_count": 12,
   "metadata": {},
   "outputs": [],
   "source": [
    "def findRootBG(B_2,Good):\n",
    "    ar1 = np.array(B_2)\n",
    "    ar2 = np.array(Good)\n",
    "    ar3 = np.sqrt(ar1 * ar2)\n",
    "    return np.add(ar3,Good)"
   ]
  },
  {
   "cell_type": "code",
   "execution_count": 13,
   "metadata": {},
   "outputs": [],
   "source": [
    "def calculateCost(hatg_array,g_array,gamma):\n",
    "    i = 0\n",
    "    algoCost = 0\n",
    "    index = 1\n",
    "    badCost = 0\n",
    "    count_bad = 0\n",
    "    for job in g_array:\n",
    "        if job == 1 and hatg_array[i] == 0:\n",
    "            algoCost = algoCost+pow(index,gamma)\n",
    "            index = index+1\n",
    "            \n",
    "        elif job == 1 and hatg_array[i] == 1:\n",
    "            algoCost = algoCost+pow(index,gamma)\n",
    "            index=1\n",
    "            \n",
    "        elif job == 0 and hatg_array[i] == 1:\n",
    "            badCost=badCost+pow(index,gamma)\n",
    "            index = 1\n",
    "            \n",
    "        else:\n",
    "            badCost=badCost+pow(index,gamma)\n",
    "            index=index+1        \n",
    "        i = i+1\n",
    "        \n",
    "    for job in g_array:\n",
    "        if job == 0:\n",
    "            count_bad = count_bad+1\n",
    "    algoCost = algoCost+count_bad\n",
    "    \n",
    "    return algoCost, badCost"
   ]
  },
  {
   "cell_type": "code",
   "execution_count": 14,
   "metadata": {},
   "outputs": [],
   "source": [
    "def makePlot(A_1,B_1,A_2,B_2,A_3,B_3,A_4,B_4,root):\n",
    "    \n",
    "    plt.loglog(B_1,A_1,'red',marker='.')\n",
    "    plt.loglog(B_2,A_2,'teal',marker='o')\n",
    "    plt.loglog(B_3,A_3,'orange',marker='s')\n",
    "    plt.loglog(B_4,A_4,'black',marker='*')\n",
    "    plt.loglog(B_2,root,'green',marker='v')\n",
    "\n",
    "    plt.axline([10^3, 10^3], [10^5, 10^5],linestyle ='--')\n",
    "\n",
    "    plt.legend(['gamma=0','gamma=1','gamma=0.5','gamma=2','A=\\sqrt{Bg}+g','A=B'])\n",
    "    plt.xlabel('Bad cost')\n",
    "    plt.ylabel('Algorithm cost')\n",
    "    plt.title('Simulation for alpha = 1')\n",
    "    plt.show()"
   ]
  },
  {
   "cell_type": "code",
   "execution_count": 15,
   "metadata": {},
   "outputs": [],
   "source": [
    "def LCharge_Simulate():\n",
    "    gamma=[0,1,0.5,2]\n",
    "    A_1=[0]*(len(n))\n",
    "    B_1=[0]*(len(n))\n",
    "    A_2=[0]*(len(n))\n",
    "    B_2=[0]*(len(n))\n",
    "    A_3=[0]*(len(n))\n",
    "    B_3=[0]*(len(n))\n",
    "    A_4=[0]*(len(n))\n",
    "    B_4=[0]*(len(n))\n",
    "    Good=[10]*(len(n))\n",
    "    for g in gamma:\n",
    "        print('Current gamma fixed to = ',g)\n",
    "        i=0\n",
    "        for N in n:\n",
    "            result=[]\n",
    "            hatg_array = createHatG(N,N/10,alpha)\n",
    "            g_array = createG(N,N/10,alpha)\n",
    "            print('Experiment with',N, 'jobs')\n",
    "            result = calculateCost(hatg_array,g_array,g)\n",
    "            if g==gamma[0]:\n",
    "                A_1[i] = result[0]\n",
    "                B_1[i] = result[1]\n",
    "            if g==gamma[1]:\n",
    "                A_2[i] = result[0]\n",
    "                B_2[i] = result[1]\n",
    "            if g==gamma[2]:\n",
    "                A_3[i] = result[0]\n",
    "                B_3[i] = result[1]\n",
    "            if g==gamma[3]:\n",
    "                A_4[i] = result[0]\n",
    "                B_4[i] = result[1]\n",
    "            i=i+1\n",
    "    print('A_1:',A_1)\n",
    "    print('B_1:',B_1)\n",
    "    print('A_2:',A_2)\n",
    "    print('B_2:',B_2)\n",
    "    print('A_3:',A_3)\n",
    "    print('B_3:',B_3)\n",
    "    print('A_4:',A_4)\n",
    "    print('B_4:',B_4)\n",
    "    root = findRootBG(B_2,Good)\n",
    "    print('Root BG',root)\n",
    "    makePlot(A_1,B_1,A_2,B_2,A_3,B_3,A_4,B_4,root)"
   ]
  },
  {
   "cell_type": "code",
   "execution_count": 16,
   "metadata": {},
   "outputs": [
    {
     "name": "stdout",
     "output_type": "stream",
     "text": [
      "Current gamma fixed to =  0\n",
      "Experiment with 20 jobs\n",
      "Experiment with 40 jobs\n",
      "Experiment with 80 jobs\n",
      "Experiment with 160 jobs\n",
      "Experiment with 320 jobs\n",
      "Experiment with 640 jobs\n",
      "Experiment with 1280 jobs\n",
      "Experiment with 5120 jobs\n",
      "Experiment with 10240 jobs\n",
      "Experiment with 20480 jobs\n",
      "Experiment with 40980 jobs\n",
      "Experiment with 81920 jobs\n",
      "Experiment with 163840 jobs\n",
      "Experiment with 327680 jobs\n",
      "Experiment with 655360 jobs\n",
      "Experiment with 1310720 jobs\n",
      "Experiment with 2621440 jobs\n",
      "Current gamma fixed to =  1\n",
      "Experiment with 20 jobs\n",
      "Experiment with 40 jobs\n",
      "Experiment with 80 jobs\n",
      "Experiment with 160 jobs\n",
      "Experiment with 320 jobs\n",
      "Experiment with 640 jobs\n",
      "Experiment with 1280 jobs\n",
      "Experiment with 5120 jobs\n",
      "Experiment with 10240 jobs\n",
      "Experiment with 20480 jobs\n",
      "Experiment with 40980 jobs\n",
      "Experiment with 81920 jobs\n",
      "Experiment with 163840 jobs\n",
      "Experiment with 327680 jobs\n",
      "Experiment with 655360 jobs\n",
      "Experiment with 1310720 jobs\n",
      "Experiment with 2621440 jobs\n",
      "Current gamma fixed to =  0.5\n",
      "Experiment with 20 jobs\n",
      "Experiment with 40 jobs\n",
      "Experiment with 80 jobs\n",
      "Experiment with 160 jobs\n",
      "Experiment with 320 jobs\n",
      "Experiment with 640 jobs\n",
      "Experiment with 1280 jobs\n",
      "Experiment with 5120 jobs\n",
      "Experiment with 10240 jobs\n",
      "Experiment with 20480 jobs\n",
      "Experiment with 40980 jobs\n",
      "Experiment with 81920 jobs\n",
      "Experiment with 163840 jobs\n",
      "Experiment with 327680 jobs\n",
      "Experiment with 655360 jobs\n",
      "Experiment with 1310720 jobs\n",
      "Experiment with 2621440 jobs\n",
      "Current gamma fixed to =  2\n",
      "Experiment with 20 jobs\n",
      "Experiment with 40 jobs\n",
      "Experiment with 80 jobs\n",
      "Experiment with 160 jobs\n",
      "Experiment with 320 jobs\n",
      "Experiment with 640 jobs\n",
      "Experiment with 1280 jobs\n",
      "Experiment with 5120 jobs\n",
      "Experiment with 10240 jobs\n",
      "Experiment with 20480 jobs\n",
      "Experiment with 40980 jobs\n",
      "Experiment with 81920 jobs\n",
      "Experiment with 163840 jobs\n",
      "Experiment with 327680 jobs\n",
      "Experiment with 655360 jobs\n",
      "Experiment with 1310720 jobs\n",
      "Experiment with 2621440 jobs\n",
      "A_1: [20, 40, 80, 160, 320, 640, 1280, 5120, 10240, 20480, 40980, 81920, 163840, 327680, 655360, 1310720, 2621440]\n",
      "B_1: [10, 30, 70, 150, 310, 630, 1270, 5110, 10230, 20470, 40970, 81910, 163830, 327670, 655350, 1310710, 2621430]\n",
      "A_2: [20, 60, 140, 300, 620, 1260, 2540, 10220, 20460, 40940, 81940, 163820, 327660, 655340, 1310700, 2621420, 5242860]\n",
      "B_2: [19, 67, 283, 1195, 4939, 20107, 81163, 1307659, 5236747, 20959243, 83943443, 335495179, 1342078987, 5368512523, 21474443275, 85898559499, 343595810827]\n",
      "A_3: [20.0, 47.32050807568877, 96.4575131106459, 188.72983346207417, 365.6776436283002, 709.3725393319377, 1382.6942766958464, 5336.053091109146, 10549.84371183439, 20922.437841034545, 41610.07812023221, 82815.04143551552, 165109.96093690392, 329480.1657382682, 657909.9804686755, 1314330.3729089694, 2626549.9902343657]\n",
      "B_3: [13.727922061357859, 43.142135623730944, 134.77406502496507, 402.9621325393521, 1172.740140402361, 3364.9340149260156, 9585.883109300717, 77098.31281527408, 218260.42378008334, 617606.8453310404, 1748521.7349226854, 4942490.590907524, 13980244.296789285, 39543190.17848165, 111846569.60896221, 316352045.4515907, 894781780.2650671]\n",
      "A_4: [20, 120, 560, 2400, 9920, 40320, 162560, 2616320, 10475520, 41922560, 167895060, 671006720, 2684190720, 10737090560, 42949017600, 171797381120, 687192145920]\n",
      "B_4: [37, 195, 1487, 12455, 103767, 850615, 6894967, 445830647, 3572870135, 28607993847, 229299957797, 1832116903927, 14658544779255, 117274798555127, 938224153985015, 7505896302575607, 60047582720425975]\n",
      "Root BG [2.37840488e+01 3.58843582e+01 6.31977443e+01 1.19316056e+02\n",
      " 2.32238611e+02 4.58408296e+02 9.10905100e+02 3.62615680e+03\n",
      " 7.24653716e+03 1.44873074e+04 2.89829948e+04 5.79319457e+04\n",
      " 1.15858133e+05 2.31710508e+05 4.63415258e+05 9.26824758e+05\n",
      " 1.85364376e+06]\n"
     ]
    },
    {
     "data": {
      "image/png": "[encoded data removed]",
      "text/plain": [
       "<Figure size 432x288 with 1 Axes>"
      ]
     },
     "metadata": {
      "needs_background": "light"
     },
     "output_type": "display_data"
    }
   ],
   "source": [
    "LCharge_Simulate()"
   ]
  },
  {
   "cell_type": "code",
   "execution_count": null,
   "metadata": {},
   "outputs": [],
   "source": []
  },
  {
   "cell_type": "code",
   "execution_count": null,
   "metadata": {},
   "outputs": [],
   "source": []
  },
  {
   "cell_type": "code",
   "execution_count": null,
   "metadata": {},
   "outputs": [],
   "source": []
  }
 ],
 "metadata": {
  "kernelspec": {
   "display_name": "Python 3",
   "language": "python",
   "name": "python3"
  },
  "language_info": {
   "codemirror_mode": {
    "name": "ipython",
    "version": 3
   },
   "file_extension": ".py",
   "mimetype": "text/x-python",
   "name": "python",
   "nbconvert_exporter": "python",
   "pygments_lexer": "ipython3",
   "version": "3.8.5"
  }
 },
 "nbformat": 4,
 "nbformat_minor": 4
}
