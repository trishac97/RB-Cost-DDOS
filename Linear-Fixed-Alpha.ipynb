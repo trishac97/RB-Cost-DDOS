{
 "cells": [
  {
   "cell_type": "code",
   "execution_count": 54,
   "metadata": {},
   "outputs": [],
   "source": [
    "import math\n",
    "import matplotlib.pyplot as plt\n",
    "import numpy as np\n",
    "n = [5,10,20,40,80,160,320,640,1280,5120,10240,20480,40980,81920,163840,327680,655360,1310720,2621440]\n",
    "alpha = 1"
   ]
  },
  {
   "cell_type": "code",
   "execution_count": 55,
   "metadata": {},
   "outputs": [],
   "source": [
    "def createHatG(N,k,alpha):\n",
    "    hatg_array= [0]*N\n",
    "    for index in range(0,len(hatg_array)):\n",
    "        if index%k < alpha:\n",
    "            hatg_array[index]=1\n",
    "    hatg_array[N-1]=1\n",
    "    return hatg_array"
   ]
  },
  {
   "cell_type": "code",
   "execution_count": 56,
   "metadata": {},
   "outputs": [],
   "source": [
    "def createG(N,k,alpha):\n",
    "    g_array= [0]*N\n",
    "    for index in range(0,len(g_array)):\n",
    "        if index%(k) >= (k-alpha):\n",
    "            g_array[index]=1\n",
    "    return g_array"
   ]
  },
  {
   "cell_type": "code",
   "execution_count": 57,
   "metadata": {},
   "outputs": [],
   "source": [
    "def findRootBG(B_2,Good):\n",
    "    Good = [x+1 for x in Good]\n",
    "    ar1 = np.array(B_2)\n",
    "    ar2 = np.array(Good)\n",
    "    ar3 = np.sqrt(ar1 * ar2)\n",
    "    return np.add(ar3,Good)"
   ]
  },
  {
   "cell_type": "code",
   "execution_count": 58,
   "metadata": {},
   "outputs": [],
   "source": [
    "def calculateCost(hatg_array,g_array,gamma):\n",
    "    i = 0\n",
    "    algoCost = 0\n",
    "    index = 1\n",
    "    badCost = 0\n",
    "    count_bad = 0\n",
    "    for job in g_array:\n",
    "        if job == 1 and hatg_array[i] == 0:\n",
    "            algoCost = algoCost+pow(index,gamma)\n",
    "            index = index+1\n",
    "            \n",
    "        elif job == 1 and hatg_array[i] == 1:\n",
    "            algoCost = algoCost+pow(index,gamma)\n",
    "            index=1\n",
    "            \n",
    "        elif job == 0 and hatg_array[i] == 1:\n",
    "            badCost=badCost+pow(index,gamma)\n",
    "            index = 1\n",
    "            \n",
    "        else:\n",
    "            badCost=badCost+pow(index,gamma)\n",
    "            index=index+1        \n",
    "        i = i+1\n",
    "        \n",
    "    for job in g_array:\n",
    "        if job == 0:\n",
    "            count_bad = count_bad+1\n",
    "    algoCost = algoCost+count_bad\n",
    "    \n",
    "    return algoCost, badCost"
   ]
  },
  {
   "cell_type": "code",
   "execution_count": 59,
   "metadata": {},
   "outputs": [],
   "source": [
    "def makePlot(A_1,B_1,A_2,B_2,A_3,B_3,A_4,B_4,root):\n",
    "    \n",
    "    plt.loglog(B_1,A_1,'red',marker='.')\n",
    "    plt.loglog(B_2,A_2,'teal',marker='o')\n",
    "    plt.loglog(B_3,A_3,'orange',marker='s')\n",
    "    plt.loglog(B_4,A_4,'black',marker='*')\n",
    "    plt.loglog(B_2,root,'green',marker='v')\n",
    "\n",
    "    plt.axline([10^3, 10^3], [10^5, 10^5],linestyle ='--')\n",
    "\n",
    "    plt.legend(['gamma=0','gamma=1','gamma=0.5','gamma=2','A=\\sqrt{Bg}+g','A=B'])\n",
    "    plt.xlabel('Bad cost')\n",
    "    plt.ylabel('Algorithm cost')\n",
    "    plt.title('Simulation for alpha = 1')\n",
    "    plt.show()"
   ]
  },
  {
   "cell_type": "code",
   "execution_count": 60,
   "metadata": {},
   "outputs": [],
   "source": [
    "def LCharge_Simulate():\n",
    "    gamma=[0,1,0.5,2]\n",
    "    A_1=[0]*(len(n))\n",
    "    B_1=[0]*(len(n))\n",
    "    A_2=[0]*(len(n))\n",
    "    B_2=[0]*(len(n))\n",
    "    A_3=[0]*(len(n))\n",
    "    B_3=[0]*(len(n))\n",
    "    A_4=[0]*(len(n))\n",
    "    B_4=[0]*(len(n))\n",
    "    Good=[1]*(len(n))\n",
    "    for g in gamma:\n",
    "        print('Current gamma fixed to = ',g)\n",
    "        i=0\n",
    "        for N in n:\n",
    "            result=[]\n",
    "            hatg_array = createHatG(N,N,alpha)\n",
    "            g_array = createG(N,N,alpha)\n",
    "            print('Experiment with',N, 'jobs')\n",
    "            result = calculateCost(hatg_array,g_array,g)\n",
    "            if g==gamma[0]:\n",
    "                A_1[i] = result[0]\n",
    "                B_1[i] = result[1]\n",
    "            if g==gamma[1]:\n",
    "                A_2[i] = result[0]\n",
    "                B_2[i] = result[1]\n",
    "            if g==gamma[2]:\n",
    "                A_3[i] = result[0]\n",
    "                B_3[i] = result[1]\n",
    "            if g==gamma[3]:\n",
    "                A_4[i] = result[0]\n",
    "                B_4[i] = result[1]\n",
    "            i=i+1\n",
    "    print('A_1:',A_1)\n",
    "    print('B_1:',B_1)\n",
    "    print('A_2:',A_2)\n",
    "    print('B_2:',B_2)\n",
    "    print('A_3:',A_3)\n",
    "    print('B_3:',B_3)\n",
    "    print('A_4:',A_4)\n",
    "    print('B_4:',B_4)\n",
    "    root = findRootBG(B_2,Good)\n",
    "    print('Root BG',root)\n",
    "    makePlot(A_1,B_1,A_2,B_2,A_3,B_3,A_4,B_4,root)"
   ]
  },
  {
   "cell_type": "code",
   "execution_count": 61,
   "metadata": {},
   "outputs": [
    {
     "name": "stdout",
     "output_type": "stream",
     "text": [
      "Current gamma fixed to =  0\n",
      "Experiment with 5 jobs\n",
      "Experiment with 10 jobs\n",
      "Experiment with 20 jobs\n",
      "Experiment with 40 jobs\n",
      "Experiment with 80 jobs\n",
      "Experiment with 160 jobs\n",
      "Experiment with 320 jobs\n",
      "Experiment with 640 jobs\n",
      "Experiment with 1280 jobs\n",
      "Experiment with 5120 jobs\n",
      "Experiment with 10240 jobs\n",
      "Experiment with 20480 jobs\n",
      "Experiment with 40980 jobs\n",
      "Experiment with 81920 jobs\n",
      "Experiment with 163840 jobs\n",
      "Experiment with 327680 jobs\n",
      "Experiment with 655360 jobs\n",
      "Experiment with 1310720 jobs\n",
      "Experiment with 2621440 jobs\n",
      "Current gamma fixed to =  1\n",
      "Experiment with 5 jobs\n",
      "Experiment with 10 jobs\n",
      "Experiment with 20 jobs\n",
      "Experiment with 40 jobs\n",
      "Experiment with 80 jobs\n",
      "Experiment with 160 jobs\n",
      "Experiment with 320 jobs\n",
      "Experiment with 640 jobs\n",
      "Experiment with 1280 jobs\n",
      "Experiment with 5120 jobs\n",
      "Experiment with 10240 jobs\n",
      "Experiment with 20480 jobs\n",
      "Experiment with 40980 jobs\n",
      "Experiment with 81920 jobs\n",
      "Experiment with 163840 jobs\n",
      "Experiment with 327680 jobs\n",
      "Experiment with 655360 jobs\n",
      "Experiment with 1310720 jobs\n",
      "Experiment with 2621440 jobs\n",
      "Current gamma fixed to =  0.5\n",
      "Experiment with 5 jobs\n",
      "Experiment with 10 jobs\n",
      "Experiment with 20 jobs\n",
      "Experiment with 40 jobs\n",
      "Experiment with 80 jobs\n",
      "Experiment with 160 jobs\n",
      "Experiment with 320 jobs\n",
      "Experiment with 640 jobs\n",
      "Experiment with 1280 jobs\n",
      "Experiment with 5120 jobs\n",
      "Experiment with 10240 jobs\n",
      "Experiment with 20480 jobs\n",
      "Experiment with 40980 jobs\n",
      "Experiment with 81920 jobs\n",
      "Experiment with 163840 jobs\n",
      "Experiment with 327680 jobs\n",
      "Experiment with 655360 jobs\n",
      "Experiment with 1310720 jobs\n",
      "Experiment with 2621440 jobs\n",
      "Current gamma fixed to =  2\n",
      "Experiment with 5 jobs\n",
      "Experiment with 10 jobs\n",
      "Experiment with 20 jobs\n",
      "Experiment with 40 jobs\n",
      "Experiment with 80 jobs\n",
      "Experiment with 160 jobs\n",
      "Experiment with 320 jobs\n",
      "Experiment with 640 jobs\n",
      "Experiment with 1280 jobs\n",
      "Experiment with 5120 jobs\n",
      "Experiment with 10240 jobs\n",
      "Experiment with 20480 jobs\n",
      "Experiment with 40980 jobs\n",
      "Experiment with 81920 jobs\n",
      "Experiment with 163840 jobs\n",
      "Experiment with 327680 jobs\n",
      "Experiment with 655360 jobs\n",
      "Experiment with 1310720 jobs\n",
      "Experiment with 2621440 jobs\n",
      "A_1: [5, 10, 20, 40, 80, 160, 320, 640, 1280, 5120, 10240, 20480, 40980, 81920, 163840, 327680, 655360, 1310720, 2621440]\n",
      "B_1: [4, 9, 19, 39, 79, 159, 319, 639, 1279, 5119, 10239, 20479, 40979, 81919, 163839, 327679, 655359, 1310719, 2621439]\n",
      "A_2: [8, 18, 38, 78, 158, 318, 638, 1278, 2558, 10238, 20478, 40958, 81958, 163838, 327678, 655358, 1310718, 2621438, 5242878]\n",
      "B_2: [7, 37, 172, 742, 3082, 12562, 50722, 203842, 817282, 13099522, 52413442, 209684482, 839618732, 3355320322, 13421527042, 53686599682, 214747381762, 858991493122, 3435969904642]\n",
      "A_3: [6.0, 12.0, 23.358898943540673, 45.2449979983984, 87.88819441731559, 171.60952021291848, 336.8605710994917, 664.278449319529, 1314.7631094844953, 5190.547187226333, 10340.187943945906, 20622.10485666112, 41181.43270486757, 82205.21495418654, 164243.77030523497, 328251.43252877524, 656168.5424633705, 1311863.8663677478, 2623058.08585319]\n",
      "B_3: [5.146264369941973, 17.30600052603572, 53.834942912879555, 160.04623468576543, 464.4642770685172, 1331.0998006178966, 3790.212281602364, 10756.773947542453, 30476.9230778864, 244131.7200435955, 690659.103928338, 1953692.1463520047, 5530226.117812567, 15630819.57278684, 44211239.766657904, 125049126.97361502, 353693555.5222891, 1000398162.1376729, 2829555724.5162635]\n",
      "A_4: [20, 90, 380, 1560, 6320, 25440, 102080, 408960, 1637120, 26209280, 104847360, 419409920, 1679319420, 6710804480, 26843381760, 107373854720, 429496074240, 1717985607680, 6871945052160]\n",
      "B_4: [15, 205, 2110, 19020, 161240, 1327280, 10769760, 86768320, 696595840, 44699932160, 357756677120, 2862682429440, 22937544112190, 183241871810560, 1465975238737920, 11727962969047040, 93824347993210880, 750597360917544960, 6004789195244830720]\n",
      "Root BG [5.74165739e+00 1.06023253e+01 2.05472370e+01 4.05227206e+01\n",
      " 8.05111457e+01 1.60505520e+02 3.20502747e+02 6.40501370e+02\n",
      " 1.28050068e+03 5.12050017e+03 1.02405001e+04 2.04805000e+04\n",
      " 4.09805000e+04 8.19205000e+04 1.63840500e+05 3.27680500e+05\n",
      " 6.55360500e+05 1.31072050e+06 2.62144050e+06]\n"
     ]
    },
    {
     "data": {
      "image/png": "[encoded data removed]",
      "text/plain": [
       "<Figure size 432x288 with 1 Axes>"
      ]
     },
     "metadata": {
      "needs_background": "light"
     },
     "output_type": "display_data"
    }
   ],
   "source": [
    "LCharge_Simulate()"
   ]
  },
  {
   "cell_type": "code",
   "execution_count": 63,
   "metadata": {},
   "outputs": [],
   "source": [
    "def createG(N,k,alpha):\n",
    "    g_array= [0]*N\n",
    "    for index in range(0,len(g_array)):\n",
    "        if index%(k) >= (k-alpha):\n",
    "            g_array[index]=1\n",
    "    return g_array\n"
   ]
  },
  {
   "cell_type": "code",
   "execution_count": 64,
   "metadata": {},
   "outputs": [
    {
     "data": {
      "text/plain": [
       "[0, 0, 0, 0, 1]"
      ]
     },
     "execution_count": 64,
     "metadata": {},
     "output_type": "execute_result"
    }
   ],
   "source": [
    "createG(5,5,1)"
   ]
  },
  {
   "cell_type": "code",
   "execution_count": 65,
   "metadata": {},
   "outputs": [],
   "source": [
    "def createHatG(N,k,alpha):\n",
    "    hatg_array= [0]*N\n",
    "    for index in range(0,len(hatg_array)):\n",
    "        if index%k < alpha:\n",
    "            hatg_array[index]=1\n",
    "    for index in range(0,len(hatg_array)):\n",
    "        if index%k == (k-1):\n",
    "            hatg_array[index]=1\n",
    "    return hatg_array"
   ]
  },
  {
   "cell_type": "code",
   "execution_count": 67,
   "metadata": {},
   "outputs": [
    {
     "data": {
      "text/plain": [
       "[1, 1, 0, 0, 0, 0, 0, 1]"
      ]
     },
     "execution_count": 67,
     "metadata": {},
     "output_type": "execute_result"
    }
   ],
   "source": [
    "createHatG(8,8,2)"
   ]
  },
  {
   "cell_type": "code",
   "execution_count": null,
   "metadata": {},
   "outputs": [],
   "source": []
  }
 ],
 "metadata": {
  "kernelspec": {
   "display_name": "Python 3 (ipykernel)",
   "language": "python",
   "name": "python3"
  },
  "language_info": {
   "codemirror_mode": {
    "name": "ipython",
    "version": 3
   },
   "file_extension": ".py",
   "mimetype": "text/x-python",
   "name": "python",
   "nbconvert_exporter": "python",
   "pygments_lexer": "ipython3",
   "version": "3.9.12"
  }
 },
 "nbformat": 4,
 "nbformat_minor": 4
}
