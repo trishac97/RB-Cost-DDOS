{
 "cells": [
  {
   "cell_type": "code",
   "execution_count": 131,
   "id": "7c439fcf",
   "metadata": {},
   "outputs": [],
   "source": [
    "import math\n",
    "import matplotlib.pyplot as plt\n",
    "import numpy as np\n",
    "n = [20,40,80,160,320,640,1280,5120,10240,20480,40980,81920,163840,327680,655360,1310720,2621440]\n",
    "alpha = 1"
   ]
  },
  {
   "cell_type": "code",
   "execution_count": 132,
   "id": "8af1b0ec",
   "metadata": {},
   "outputs": [],
   "source": [
    "def createG(N,k,alpha):\n",
    "    g_array= [0]*N\n",
    "    for index in range(0,len(g_array)):\n",
    "        if index%(k) >= (k-alpha):\n",
    "            g_array[index]=1\n",
    "    return g_array"
   ]
  },
  {
   "cell_type": "code",
   "execution_count": 134,
   "id": "b8eb9628",
   "metadata": {},
   "outputs": [],
   "source": [
    "def createHatG(N,k,alpha):\n",
    "    hatg_array= [0]*N\n",
    "    for index in range(0,len(hatg_array)):\n",
    "        if index%k < alpha:\n",
    "            hatg_array[index]=1\n",
    "    for index in range(0,len(hatg_array)):\n",
    "        if index%k == (k-1):\n",
    "            hatg_array[index]=1\n",
    "    return hatg_array"
   ]
  },
  {
   "cell_type": "code",
   "execution_count": 136,
   "id": "54d50e33",
   "metadata": {},
   "outputs": [],
   "source": [
    "def findRootBG(B_2,Good):\n",
    "    ar1 = np.array(B_2)\n",
    "    ar2 = np.array(Good)\n",
    "    ar3 = np.sqrt(ar1 * ar2)\n",
    "    return np.add(ar3,Good)"
   ]
  },
  {
   "cell_type": "code",
   "execution_count": 137,
   "id": "e14d1443",
   "metadata": {},
   "outputs": [],
   "source": [
    "def calculateCost(hatg_array,g_array,gamma):\n",
    "    i = 0\n",
    "    algoCost = 0\n",
    "    index = 1\n",
    "    badCost = 0\n",
    "    count_bad = 0\n",
    "    for job in g_array:\n",
    "        if job == 1 and hatg_array[i] == 0:\n",
    "            algoCost = algoCost+pow(index,gamma)\n",
    "            index = index+1\n",
    "            \n",
    "        elif job == 1 and hatg_array[i] == 1:\n",
    "            algoCost = algoCost+pow(index,gamma)\n",
    "            index=1\n",
    "            \n",
    "        elif job == 0 and hatg_array[i] == 1:\n",
    "            badCost=badCost+pow(index,gamma)\n",
    "            index = 1\n",
    "            \n",
    "        else:\n",
    "            badCost=badCost+pow(index,gamma)\n",
    "            index=index+1        \n",
    "        i = i+1\n",
    "        \n",
    "    \n",
    "    algoCost = algoCost+len(g_array)\n",
    "    \n",
    "    return algoCost, badCost"
   ]
  },
  {
   "cell_type": "code",
   "execution_count": 138,
   "id": "0bf1fd79",
   "metadata": {},
   "outputs": [],
   "source": [
    "def makePlot(A_1,B_1,A_2,B_2,A_3,B_3,A_4,B_4,root):\n",
    "    \n",
    "    plt.loglog(B_1,A_1,'red',marker='.')\n",
    "    plt.loglog(B_2,A_2,'teal',marker='o')\n",
    "    plt.loglog(B_3,A_3,'orange',marker='s')\n",
    "    plt.loglog(B_4,A_4,'black',marker='*')\n",
    "    plt.loglog(B_2,root,'green',marker='v')\n",
    "\n",
    "    plt.axline([10^3, 10^3], [10^5, 10^5],linestyle ='--')\n",
    "\n",
    "    plt.legend(['gamma=0','gamma=1','gamma=0.5','gamma=2','A=\\sqrt{Bg}+g','A=B'])\n",
    "    plt.xlabel('Bad cost')\n",
    "    plt.ylabel('Algorithm cost')\n",
    "    plt.title('Simulation for alpha = 1')\n",
    "    plt.show()"
   ]
  },
  {
   "cell_type": "code",
   "execution_count": 139,
   "id": "baa71e0e",
   "metadata": {},
   "outputs": [],
   "source": [
    "\n",
    "def LCharge_Simulate():\n",
    "    gamma=[0,1,0.5,2]\n",
    "    A_1=[0]*(len(n))\n",
    "    B_1=[0]*(len(n))\n",
    "    A_2=[0]*(len(n))\n",
    "    B_2=[0]*(len(n))\n",
    "    A_3=[0]*(len(n))\n",
    "    B_3=[0]*(len(n))\n",
    "    A_4=[0]*(len(n))\n",
    "    B_4=[0]*(len(n))\n",
    "    Good=[10]*(len(n))\n",
    "    for g in gamma:\n",
    "        print('Current gamma fixed to = ',g)\n",
    "        i=0\n",
    "        for N in n:\n",
    "            result=[]\n",
    "            hatg_array = createHatG(N,N/10,alpha)\n",
    "            g_array = createG(N,N/10,alpha)\n",
    "            print('Experiment with',N, 'jobs')\n",
    "            result = calculateCost(hatg_array,g_array,g)\n",
    "            if g==gamma[0]:\n",
    "                A_1[i] = result[0]\n",
    "                B_1[i] = result[1]\n",
    "            if g==gamma[1]:\n",
    "                A_2[i] = result[0]\n",
    "                B_2[i] = result[1]\n",
    "            if g==gamma[2]:\n",
    "                A_3[i] = result[0]\n",
    "                B_3[i] = result[1]\n",
    "            if g==gamma[3]:\n",
    "                A_4[i] = result[0]\n",
    "                B_4[i] = result[1]\n",
    "            i=i+1\n",
    "    print('A_1:',A_1)\n",
    "    print('B_1:',B_1)\n",
    "    print('A_2:',A_2)\n",
    "    print('B_2:',B_2)\n",
    "    print('A_3:',A_3)\n",
    "    print('B_3:',B_3)\n",
    "    print('A_4:',A_4)\n",
    "    print('B_4:',B_4)\n",
    "    root = findRootBG(B_2,Good)\n",
    "    print('Root BG',root)\n",
    "    makePlot(A_1,B_1,A_2,B_2,A_3,B_3,A_4,B_4,root)"
   ]
  },
  {
   "cell_type": "code",
   "execution_count": 140,
   "id": "197b6cc3",
   "metadata": {},
   "outputs": [
    {
     "name": "stdout",
     "output_type": "stream",
     "text": [
      "Current gamma fixed to =  0\n",
      "Experiment with 20 jobs\n",
      "Experiment with 40 jobs\n",
      "Experiment with 80 jobs\n",
      "Experiment with 160 jobs\n",
      "Experiment with 320 jobs\n",
      "Experiment with 640 jobs\n",
      "Experiment with 1280 jobs\n",
      "Experiment with 5120 jobs\n",
      "Experiment with 10240 jobs\n",
      "Experiment with 20480 jobs\n",
      "Experiment with 40980 jobs\n",
      "Experiment with 81920 jobs\n",
      "Experiment with 163840 jobs\n",
      "Experiment with 327680 jobs\n",
      "Experiment with 655360 jobs\n",
      "Experiment with 1310720 jobs\n",
      "Experiment with 2621440 jobs\n",
      "Current gamma fixed to =  1\n",
      "Experiment with 20 jobs\n",
      "Experiment with 40 jobs\n",
      "Experiment with 80 jobs\n",
      "Experiment with 160 jobs\n",
      "Experiment with 320 jobs\n",
      "Experiment with 640 jobs\n",
      "Experiment with 1280 jobs\n",
      "Experiment with 5120 jobs\n",
      "Experiment with 10240 jobs\n",
      "Experiment with 20480 jobs\n",
      "Experiment with 40980 jobs\n",
      "Experiment with 81920 jobs\n",
      "Experiment with 163840 jobs\n",
      "Experiment with 327680 jobs\n",
      "Experiment with 655360 jobs\n",
      "Experiment with 1310720 jobs\n",
      "Experiment with 2621440 jobs\n",
      "Current gamma fixed to =  0.5\n",
      "Experiment with 20 jobs\n",
      "Experiment with 40 jobs\n",
      "Experiment with 80 jobs\n",
      "Experiment with 160 jobs\n",
      "Experiment with 320 jobs\n",
      "Experiment with 640 jobs\n",
      "Experiment with 1280 jobs\n",
      "Experiment with 5120 jobs\n",
      "Experiment with 10240 jobs\n",
      "Experiment with 20480 jobs\n",
      "Experiment with 40980 jobs\n",
      "Experiment with 81920 jobs\n",
      "Experiment with 163840 jobs\n",
      "Experiment with 327680 jobs\n",
      "Experiment with 655360 jobs\n",
      "Experiment with 1310720 jobs\n",
      "Experiment with 2621440 jobs\n",
      "Current gamma fixed to =  2\n",
      "Experiment with 20 jobs\n",
      "Experiment with 40 jobs\n",
      "Experiment with 80 jobs\n",
      "Experiment with 160 jobs\n",
      "Experiment with 320 jobs\n",
      "Experiment with 640 jobs\n",
      "Experiment with 1280 jobs\n",
      "Experiment with 5120 jobs\n",
      "Experiment with 10240 jobs\n",
      "Experiment with 20480 jobs\n",
      "Experiment with 40980 jobs\n",
      "Experiment with 81920 jobs\n",
      "Experiment with 163840 jobs\n",
      "Experiment with 327680 jobs\n",
      "Experiment with 655360 jobs\n",
      "Experiment with 1310720 jobs\n",
      "Experiment with 2621440 jobs\n",
      "A_1: [30, 50, 90, 170, 330, 650, 1290, 5130, 10250, 20490, 40990, 81930, 163850, 327690, 655370, 1310730, 2621450]\n",
      "B_1: [10, 30, 70, 150, 310, 630, 1270, 5110, 10230, 20470, 40970, 81910, 163830, 327670, 655350, 1310710, 2621430]\n",
      "A_2: [30, 70, 150, 310, 630, 1270, 2550, 10230, 20470, 40950, 81950, 163830, 327670, 655350, 1310710, 2621430, 5242870]\n",
      "B_2: [10, 40, 220, 1060, 4660, 19540, 80020, 1303060, 5227540, 20940820, 83906570, 335421460, 1341931540, 5368217620, 21473853460, 85897379860, 343593451540]\n",
      "A_3: [30.0, 57.32050807568877, 106.4575131106459, 198.72983346207417, 375.6776436283002, 719.3725393319377, 1392.6942766958464, 5346.053091109146, 10559.84371183439, 20932.437841034545, 41620.07812023221, 82825.04143551552, 165119.96093690392, 329490.1657382682, 657919.9804686755, 1314340.3729089694, 2626559.9902343657]\n",
      "B_3: [10.0, 34.14213562373095, 118.31822090224935, 375.96213253935207, 1130.8284521569292, 3301.9340149260165, 9493.059732809854, 76903.66606229235, 217981.42378008325, 617208.5518250768, 1747954.5943148474, 4941685.003895599, 13979101.296789281, 39541570.004457794, 111844274.60896212, 316348796.103543, 894777181.2650671]\n",
      "A_4: [30, 130, 570, 2410, 9930, 40330, 162570, 2616330, 10475530, 41922570, 167895070, 671006730, 2684190730, 10737090570, 42949017610, 171797381130, 687192145930]\n",
      "B_4: [10, 60, 920, 10160, 94560, 813760, 6747520, 443471360, 3563432960, 28570245120, 229148815370, 1831512924160, 14656128860160, 117265134878720, 938185499279360, 7505741683752960, 60046964245135360]\n",
      "Root BG [2.00000000e+01 3.00000000e+01 5.69041576e+01 1.12956301e+02\n",
      " 2.25870331e+02 4.52040722e+02 9.04538987e+02 3.61979224e+03\n",
      " 7.24017289e+03 1.44809433e+04 2.89766308e+04 5.79255817e+04\n",
      " 1.15851769e+05 2.31704144e+05 4.63408894e+05 9.26818394e+05\n",
      " 1.85363739e+06]\n"
     ]
    },
    {
     "data": {
      "image/png": "[encoded data removed]",
      "text/plain": [
       "<Figure size 432x288 with 1 Axes>"
      ]
     },
     "metadata": {
      "needs_background": "light"
     },
     "output_type": "display_data"
    }
   ],
   "source": [
    "LCharge_Simulate()"
   ]
  },
  {
   "cell_type": "code",
   "execution_count": 65,
   "id": "bd496197",
   "metadata": {},
   "outputs": [
    {
     "data": {
      "text/plain": [
       "2.0"
      ]
     },
     "execution_count": 65,
     "metadata": {},
     "output_type": "execute_result"
    }
   ],
   "source": []
  },
  {
   "cell_type": "code",
   "execution_count": null,
   "id": "75fb1c33",
   "metadata": {},
   "outputs": [],
   "source": []
  }
 ],
 "metadata": {
  "kernelspec": {
   "display_name": "Python 3 (ipykernel)",
   "language": "python",
   "name": "python3"
  },
  "language_info": {
   "codemirror_mode": {
    "name": "ipython",
    "version": 3
   },
   "file_extension": ".py",
   "mimetype": "text/x-python",
   "name": "python",
   "nbconvert_exporter": "python",
   "pygments_lexer": "ipython3",
   "version": "3.9.12"
  }
 },
 "nbformat": 4,
 "nbformat_minor": 5
}
